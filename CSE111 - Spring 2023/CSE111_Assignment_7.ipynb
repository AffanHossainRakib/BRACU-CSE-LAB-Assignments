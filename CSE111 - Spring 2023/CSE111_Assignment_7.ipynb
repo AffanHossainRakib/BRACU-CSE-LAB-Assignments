{
 "nbformat": 4,
 "nbformat_minor": 0,
 "metadata": {
  "colab": {
   "provenance": [],
   "authorship_tag": "ABX9TyMkhDrnLI93Kp9u050DAk+k"
  },
  "kernelspec": {
   "name": "python3",
   "display_name": "Python 3"
  },
  "language_info": {
   "name": "python"
  }
 },
 "cells": [
  {
   "cell_type": "markdown",
   "source": [
    "#Inheritance"
   ],
   "metadata": {
    "id": "eoNQRnoYb1ov"
   }
  },
  {
   "cell_type": "code",
   "execution_count": null,
   "outputs": [],
   "source": [
    "#@title Task 1\n",
    "class Student:\n",
    "    def __init__(self, name='Just a student', dept='nothing'):\n",
    "        self.__name = name\n",
    "        self.__department = dept\n",
    "    def set_department(self, dept):\n",
    "        self.__department = dept\n",
    "    def get_name(self):\n",
    "        return self.__name\n",
    "    def set_name(self,name):\n",
    "        self.__name = name\n",
    "    def __str__(self):\n",
    "        return 'Name: '+self.__name+' Department: '+self.__department\n",
    "\n",
    "\n",
    "#write your code here\n",
    "class BBA_Student(Student):\n",
    "    def __init__(self,name=\"default\"):\n",
    "        super().__init__(name,\"BBA\")\n",
    "    \n",
    "\n",
    "print(BBA_Student())\n",
    "print(BBA_Student('Humpty Dumpty'))\n",
    "print(BBA_Student('Little Bo Peep'))\n",
    "\n"
   ],
   "metadata": {
    "collapsed": false,
    "pycharm": {
     "is_executing": true
    }
   }
  },
  {
   "cell_type": "code",
   "source": [
    "#@title Task 2\n",
    "class Vehicle:\n",
    "    def __init__(self):\n",
    "        self.x = 0\n",
    "        self.y = 0\n",
    "    def moveUp(self):\n",
    "        self.y += 1\n",
    "    def moveDown(self):\n",
    "        self.y -= 1\n",
    "    def moveRight(self):\n",
    "        self.x += 1\n",
    "    def moveLeft(self):\n",
    "        self.x -= 1\n",
    "    def __str__(self):\n",
    "        return '('+str(self.x)+' , '+str(self.y)+')'\n",
    "#write your code here\n",
    "class Vehicle2010(Vehicle):\n",
    "    def moveLowerLeft(self):\n",
    "        self.x -= 1\n",
    "        self.y -= 1\n",
    "\n",
    "    def equals(self,obj):\n",
    "        if self.x == obj.x and self.y == obj.y:\n",
    "            return True\n",
    "        else:\n",
    "            return False\n",
    "\n",
    "print('Part 1')\n",
    "print('------')\n",
    "car = Vehicle()\n",
    "print(car)\n",
    "car.moveUp()\n",
    "print(car)\n",
    "car.moveLeft()\n",
    "print(car)\n",
    "car.moveDown()\n",
    "print(car)\n",
    "car.moveRight()\n",
    "print(car)\n",
    "print('------')\n",
    "print('Part 2')\n",
    "print('------')\n",
    "car1 = Vehicle2010()\n",
    "print(car1)\n",
    "car1.moveLowerLeft()\n",
    "print(car1)\n",
    "car2 = Vehicle2010()\n",
    "car2.moveLeft()\n",
    "print(car1.equals(car2))\n",
    "car2.moveDown()\n",
    "print(car1.equals(car2))"
   ],
   "metadata": {
    "colab": {
     "base_uri": "https://localhost:8080/"
    },
    "id": "ZtktRihweVnq",
    "executionInfo": {
     "status": "ok",
     "timestamp": 1680666112414,
     "user_tz": -360,
     "elapsed": 4,
     "user": {
      "displayName": "Md. Affan Hossain Rakib",
      "userId": "11943095703424466555"
     }
    },
    "outputId": "4fe6407a-bf8e-4179-928d-4c983c8f0a60",
    "cellView": "form"
   },
   "execution_count": null,
   "outputs": [
    {
     "output_type": "stream",
     "name": "stdout",
     "text": [
      "Part 1\n",
      "------\n",
      "(0 , 0)\n",
      "(0 , 1)\n",
      "(-1 , 1)\n",
      "(-1 , 0)\n",
      "(0 , 0)\n",
      "------\n",
      "Part 2\n",
      "------\n",
      "(0 , 0)\n",
      "(-1 , -1)\n",
      "False\n",
      "True\n"
     ]
    }
   ]
  },
  {
   "cell_type": "code",
   "source": [
    "#@title Task 3\n",
    "class Tournament:\n",
    "    def __init__(self,name='Default'):\n",
    "        self.__name = name\n",
    "    def set_name(self,name):\n",
    "        self.__name = name\n",
    "    def get_name(self):\n",
    "        return self.__name\n",
    "\n",
    "#write your code here\n",
    "class Cricket_Tournament(Tournament):\n",
    "    def __init__(self, name=\"Default\", tt=0, t=\"No type\"):\n",
    "        super().set_name(name)\n",
    "        self.tt = tt\n",
    "        self.t = t\n",
    "\n",
    "    def detail(self):\n",
    "        return f\"Cricket Tournament Name: {super().get_name()}\\nNumber of Teams: {self.tt}\\nType: {self.t}\"\n",
    "\n",
    "class Tennis_Tournament(Tournament):\n",
    "    def __init__(self, name, np):\n",
    "        super().set_name(name)\n",
    "        self.np = np\n",
    "    def detail(self):\n",
    "        return f\"Cricket Tournament Name: {super().get_name()}\\nNumber of Number of Players: {self.np}\"\n",
    "        \n",
    "ct1 = Cricket_Tournament()\n",
    "print(ct1.detail())\n",
    "print(\"-----------------------\")\n",
    "ct2 = Cricket_Tournament(\"IPL\",10,\"t20\")\n",
    "print(ct2.detail())\n",
    "print(\"-----------------------\")\n",
    "tt = Tennis_Tournament(\"Roland Garros\",128)\n",
    "print(tt.detail())\n",
    "\n",
    "\n",
    "\n"
   ],
   "metadata": {
    "colab": {
     "base_uri": "https://localhost:8080/"
    },
    "id": "hylUO5t1geHo",
    "executionInfo": {
     "status": "ok",
     "timestamp": 1680667468751,
     "user_tz": -360,
     "elapsed": 849,
     "user": {
      "displayName": "Md. Affan Hossain Rakib",
      "userId": "11943095703424466555"
     }
    },
    "outputId": "e2e10c3e-6ee1-4299-b528-857aa70e1219"
   },
   "execution_count": null,
   "outputs": [
    {
     "output_type": "stream",
     "name": "stdout",
     "text": [
      "Cricket Tournament Name: Default\n",
      "Number of Teams: 0\n",
      "Type: No type\n",
      "-----------------------\n",
      "Cricket Tournament Name: IPL\n",
      "Number of Teams: 10\n",
      "Type: t20\n",
      "-----------------------\n",
      "Cricket Tournament Name: Roland Garros\n",
      "Number of Number of Players: 128\n"
     ]
    }
   ]
  },
  {
   "cell_type": "code",
   "source": [
    "#@title Task 4\n",
    "class Product:\n",
    "    def __init__(self,id, title, price):\n",
    "        self.__id = id\n",
    "        self.__title = title\n",
    "        self.__price = price\n",
    "    def get_id_title_price(self):\n",
    "        return \"ID: \"+str(self.__id)+\" Title:\"+self.__title+\" Price: \"+str(self.__price)\n",
    "#write your code here\n",
    "class Book (Product):\n",
    "    def __init__(self, id,title, price, isbn, pub):\n",
    "        super().__init__(id,title, price)\n",
    "        self.isbn = isbn\n",
    "        self.pub = pub\n",
    "    \n",
    "    def printDetail(self):\n",
    "        return f\"{super().get_id_title_price()}\\nISBN: {self.isbn} Publisher: {self.pub}\"\n",
    "\n",
    "class CD(Product):\n",
    "    def __init__(self, id,title, price, band, dur, gen):\n",
    "        super().__init__(id,title, price)\n",
    "        self.band = band\n",
    "        self.dur = dur\n",
    "        self.gen = gen\n",
    "    def printDetail(self):\n",
    "        return f\"{super().get_id_title_price()}\\nBand: {self.band} Duration: {self.dur} minutes \\nGenre: {self.gen}\"\n",
    "\n",
    "book = Book(1,\"The Alchemist\",500,\"97806\",\"HarperCollins\")\n",
    "print(book.printDetail())\n",
    "print(\"-----------------------\")\n",
    "cd = CD(2,\"Shotto\",300,\"Warfaze\",50,\"Hard Rock\")\n",
    "print(cd.printDetail())\n",
    "\n",
    "\n",
    "\n"
   ],
   "metadata": {
    "colab": {
     "base_uri": "https://localhost:8080/"
    },
    "id": "G90v1KbFloXN",
    "executionInfo": {
     "status": "ok",
     "timestamp": 1680668345630,
     "user_tz": -360,
     "elapsed": 413,
     "user": {
      "displayName": "Md. Affan Hossain Rakib",
      "userId": "11943095703424466555"
     }
    },
    "outputId": "a73f1ac7-7b06-4a36-d166-df8a447f26b2"
   },
   "execution_count": null,
   "outputs": [
    {
     "output_type": "stream",
     "name": "stdout",
     "text": [
      "ID: 1 Title:The Alchemist Price: 500\n",
      "ISBN: 97806 Publisher: HarperCollins\n",
      "-----------------------\n",
      "ID: 2 Title:Shotto Price: 300\n",
      "Band: Warfaze Duration: 50 minutes \n",
      "Genre: Hard Rock\n"
     ]
    }
   ]
  },
  {
   "cell_type": "code",
   "source": [
    "#@title Task 5\n",
    "class Animal:   \n",
    "    def __init__(self,sound):\n",
    "        self.__sound = sound\n",
    "        \n",
    "    def makeSound(self):\n",
    "        return self.__sound\n",
    "        \n",
    "\n",
    "class Printer:   \n",
    "    def printSound(self, a):\n",
    "        print(a.makeSound())\n",
    "\n",
    "\n",
    "#write your code here\n",
    "class Dog(Animal):\n",
    "    pass\n",
    "\n",
    "class Cat(Animal):\n",
    "    pass\n",
    "\n",
    "d1 = Dog('bark')\n",
    "c1 = Cat('meow')\n",
    "a1 = Animal('Animal does not make sound')\n",
    "pr = Printer()\n",
    "pr.printSound(a1)\n",
    "pr.printSound(c1)\n",
    "pr.printSound(d1)"
   ],
   "metadata": {
    "colab": {
     "base_uri": "https://localhost:8080/"
    },
    "id": "NMS1Itnoo-Ik",
    "executionInfo": {
     "status": "ok",
     "timestamp": 1680668830308,
     "user_tz": -360,
     "elapsed": 375,
     "user": {
      "displayName": "Md. Affan Hossain Rakib",
      "userId": "11943095703424466555"
     }
    },
    "outputId": "14895c38-d7c0-45e7-ce6b-41b47448c311"
   },
   "execution_count": null,
   "outputs": [
    {
     "output_type": "stream",
     "name": "stdout",
     "text": [
      "Animal does not make sound\n",
      "meow\n",
      "bark\n"
     ]
    }
   ]
  },
  {
   "cell_type": "code",
   "source": [
    "#@title Task 6\n",
    "class Shape:\n",
    "\n",
    "  def __init__(self, name='Default', height=0, base=0):\n",
    "    self.area = 0\n",
    "    self.name = name\n",
    "    self.height = height\n",
    "    self.base = base\n",
    "\n",
    "  def get_height_base(self):\n",
    "    return \"Height: \"+str(self.height)+\",Base: \"+str(self.base)\n",
    "\n",
    "#write your code here\n",
    "class triangle(Shape):\n",
    "    def calcArea(self):\n",
    "        self.area = .5 * self.height * self.base\n",
    "    \n",
    "    def printDetail(self):\n",
    "        return f\"Shape name: {self.name}\\n{super().get_height_base()}\\nArea :{self.area}\"\n",
    "\n",
    "class trapezoid(Shape):\n",
    "    def __init__(self, name, height, base, side_A):\n",
    "        super().__init__(name,height,base)\n",
    "        self.side_A = side_A\n",
    "    def calcArea(self):\n",
    "        self.area = .5 * (self.side_A + self.base) * self.height\n",
    "    \n",
    "    def printDetail(self):\n",
    "        return f\"Shape name: {self.name}\\n{super().get_height_base()}\\nSide_A{self.side_A}\\nArea :{self.area}\"\n",
    "\n",
    "tri_default = triangle()\n",
    "tri_default.calcArea()\n",
    "print(tri_default.printDetail())\n",
    "print('--------------------------')\n",
    "tri = triangle('Triangle', 10, 5)\n",
    "tri.calcArea()\n",
    "print(tri.printDetail())\n",
    "print('---------------------------')\n",
    "trap = trapezoid('Trapezoid', 10, 6, 4)\n",
    "trap.calcArea()\n",
    "print(trap.printDetail())\n"
   ],
   "metadata": {
    "colab": {
     "base_uri": "https://localhost:8080/"
    },
    "id": "3zX452NvxllV",
    "executionInfo": {
     "status": "ok",
     "timestamp": 1681075000237,
     "user_tz": -360,
     "elapsed": 5,
     "user": {
      "displayName": "Md. Affan Hossain Rakib",
      "userId": "11943095703424466555"
     }
    },
    "outputId": "910f405a-8eb9-4ad0-c58d-53a7a10dcfc6"
   },
   "execution_count": 2,
   "outputs": [
    {
     "output_type": "stream",
     "name": "stdout",
     "text": [
      "Shape name: Default\n",
      "Height: 0,Base: 0\n",
      "Area :0.0\n",
      "--------------------------\n",
      "Shape name: Triangle\n",
      "Height: 10,Base: 5\n",
      "Area :25.0\n",
      "---------------------------\n",
      "Shape name: Trapezoid\n",
      "Height: 10,Base: 6\n",
      "Side_A4\n",
      "Area :50.0\n"
     ]
    }
   ]
  },
  {
   "cell_type": "code",
   "source": [
    "#@title Task 7\n",
    "class SportsPerson:\n",
    "\n",
    "  def __init__(self, team_name, name, role):\n",
    "    self.__team = team_name\n",
    "    self.__name = name\n",
    "    self.role = role\n",
    "    self.earning_per_match = 0\n",
    "\n",
    "  def get_name_team(self):\n",
    "    return 'Name: '+self.__name+', Team Name: ' +self.__team\n",
    "\n",
    "#write your code here\n",
    "class Player(SportsPerson):\n",
    "    def __init__(self, team_name, name, role, tg, tp):\n",
    "        super().__init__(team_name, name, role)\n",
    "        self.earning_per_match = (tg*1000) + (tp*10)\n",
    "        self.tg = tg\n",
    "        self.tp = tp\n",
    "    \n",
    "    def calculate_ratio(self):\n",
    "        return self.tg/self.tp\n",
    "    \n",
    "    def print_details(self):\n",
    "        print(f\"{super().get_name_team()}\")\n",
    "        print(f\"Team Role: {self.role}\")\n",
    "        print(f\"Total Goal: {self.tg}, Total Played: {self.tp}\")\n",
    "        print(f\"Goal Ratio: {self.calculate_ratio()}\")\n",
    "        print(f\"Match Earning {self.earning_per_match}K\")\n",
    "\n",
    "\n",
    "class Manager(SportsPerson):\n",
    "    def __init__(self, team_name, name, role, tw):\n",
    "        super().__init__(team_name, name, role)\n",
    "        self.earning_per_match = tw * 1000\n",
    "        self.tw = tw\n",
    "\n",
    "    def print_details(self):\n",
    "        print(f\"{super().get_name_team()}\")\n",
    "        print(f\"Team Role: {self.role}\")\n",
    "        print(f\"Total Win: {self.tw}\")\n",
    "        print(f\"Match Earning: {self.earning_per_match}K\")\n",
    "\n",
    "player_one = Player('Juventus', 'Ronaldo', 'Striker', 25, 32)\n",
    "player_one.calculate_ratio()\n",
    "player_one.print_details()\n",
    "print('------------------------------------------')\n",
    "manager_one = Manager('Real Madrid', 'Zidane', 'Manager', 25)\n",
    "manager_one.print_details()"
   ],
   "metadata": {
    "colab": {
     "base_uri": "https://localhost:8080/"
    },
    "cellView": "form",
    "id": "ob_N9PcIrSrI",
    "executionInfo": {
     "status": "ok",
     "timestamp": 1681073129823,
     "user_tz": -360,
     "elapsed": 567,
     "user": {
      "displayName": "Md. Affan Hossain Rakib",
      "userId": "11943095703424466555"
     }
    },
    "outputId": "37acfbfc-0611-48a3-b9c4-93cedbeeb3d4"
   },
   "execution_count": 10,
   "outputs": [
    {
     "output_type": "stream",
     "name": "stdout",
     "text": [
      "Name: Ronaldo, Team Name: Juventus\n",
      "Team Role: Striker\n",
      "Total Goal: 25, Total Played: 32\n",
      "Goal Ratio: 0.78125\n",
      "Match Earning 25320K\n",
      "------------------------------------------\n",
      "Name: Zidane, Team Name: Real Madrid\n",
      "Team Role: Manager\n",
      "Total Win: 25\n",
      "Match Earning: 25000K\n"
     ]
    }
   ]
  }
 ]
}
